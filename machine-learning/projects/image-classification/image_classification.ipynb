{
 "cells": [
  {
   "cell_type": "markdown",
   "metadata": {
    "collapsed": true,
    "deletable": true,
    "editable": true
   },
   "source": [
    "# Image Classification\n",
    "In this project, you'll classify images from the [CIFAR-10 dataset](https://www.cs.toronto.edu/~kriz/cifar.html).  The dataset consists of airplanes, dogs, cats, and other objects. You'll preprocess the images, then train a convolutional neural network on all the samples. The images need to be normalized and the labels need to be one-hot encoded.  You'll get to apply what you learned and build a convolutional, max pooling, dropout, and fully connected layers.  At the end, you'll get to see your neural network's predictions on the sample images.\n",
    "## Get the Data\n",
    "Run the following cell to download the [CIFAR-10 dataset for python](https://www.cs.toronto.edu/~kriz/cifar-10-python.tar.gz)."
   ]
  },
  {
   "cell_type": "code",
   "execution_count": 1,
   "metadata": {
    "collapsed": false,
    "deletable": true,
    "editable": true
   },
   "outputs": [
    {
     "name": "stdout",
     "output_type": "stream",
     "text": [
      "All files found!\n"
     ]
    }
   ],
   "source": [
    "\"\"\"\n",
    "DON'T MODIFY ANYTHING IN THIS CELL THAT IS BELOW THIS LINE\n",
    "\"\"\"\n",
    "from urllib.request import urlretrieve\n",
    "from os.path import isfile, isdir\n",
    "from tqdm import tqdm\n",
    "import problem_unittests as tests\n",
    "import tarfile\n",
    "\n",
    "cifar10_dataset_folder_path = 'cifar-10-batches-py'\n",
    "\n",
    "class DLProgress(tqdm):\n",
    "    last_block = 0\n",
    "\n",
    "    def hook(self, block_num=1, block_size=1, total_size=None):\n",
    "        self.total = total_size\n",
    "        self.update((block_num - self.last_block) * block_size)\n",
    "        self.last_block = block_num\n",
    "\n",
    "if not isfile('cifar-10-python.tar.gz'):\n",
    "    with DLProgress(unit='B', unit_scale=True, miniters=1, desc='CIFAR-10 Dataset') as pbar:\n",
    "        urlretrieve(\n",
    "            'https://www.cs.toronto.edu/~kriz/cifar-10-python.tar.gz',\n",
    "            'cifar-10-python.tar.gz',\n",
    "            pbar.hook)\n",
    "\n",
    "if not isdir(cifar10_dataset_folder_path):\n",
    "    with tarfile.open('cifar-10-python.tar.gz') as tar:\n",
    "        tar.extractall()\n",
    "        tar.close()\n",
    "\n",
    "\n",
    "tests.test_folder_path(cifar10_dataset_folder_path)"
   ]
  },
  {
   "cell_type": "markdown",
   "metadata": {
    "deletable": true,
    "editable": true
   },
   "source": [
    "## Explore the Data\n",
    "The dataset is broken into batches to prevent your machine from running out of memory.  The CIFAR-10 dataset consists of 5 batches, named `data_batch_1`, `data_batch_2`, etc.. Each batch contains the labels and images that are one of the following:\n",
    "* airplane\n",
    "* automobile\n",
    "* bird\n",
    "* cat\n",
    "* deer\n",
    "* dog\n",
    "* frog\n",
    "* horse\n",
    "* ship\n",
    "* truck\n",
    "\n",
    "Understanding a dataset is part of making predictions on the data.  Play around with the code cell below by changing the `batch_id` and `sample_id`. The `batch_id` is the id for a batch (1-5). The `sample_id` is the id for a image and label pair in the batch.\n",
    "\n",
    "Ask yourself \"What are all possible labels?\", \"What is the range of values for the image data?\", \"Are the labels in order or random?\".  Answers to questions like these will help you preprocess the data and end up with better predictions."
   ]
  },
  {
   "cell_type": "code",
   "execution_count": 2,
   "metadata": {
    "collapsed": false,
    "deletable": true,
    "editable": true
   },
   "outputs": [
    {
     "name": "stdout",
     "output_type": "stream",
     "text": [
      "\n",
      "Stats of batch 2:\n",
      "Samples: 10000\n",
      "Label Counts: {0: 984, 1: 1007, 2: 1010, 3: 995, 4: 1010, 5: 988, 6: 1008, 7: 1026, 8: 987, 9: 985}\n",
      "First 20 Labels: [1, 6, 6, 8, 8, 3, 4, 6, 0, 6, 0, 3, 6, 6, 5, 4, 8, 3, 2, 6]\n",
      "\n",
      "Example of Image 6:\n",
      "Image - Min Value: 0 Max Value: 235\n",
      "Image - Shape: (32, 32, 3)\n",
      "Label - Label Id: 4 Name: deer\n"
     ]
    },
    {
     "data": {
      "image/png": "[encoded data removed]",
      "text/plain": [
       "<matplotlib.figure.Figure at 0x23d25c24b70>"
      ]
     },
     "metadata": {
      "image/png": {
       "height": 250,
       "width": 253
      }
     },
     "output_type": "display_data"
    }
   ],
   "source": [
    "%matplotlib inline\n",
    "%config InlineBackend.figure_format = 'retina'\n",
    "\n",
    "import helper\n",
    "import numpy as np\n",
    "\n",
    "# Explore the dataset\n",
    "batch_id = 2\n",
    "sample_id = 6\n",
    "helper.display_stats(cifar10_dataset_folder_path, batch_id, sample_id)"
   ]
  },
  {
   "cell_type": "markdown",
   "metadata": {
    "deletable": true,
    "editable": true
   },
   "source": [
    "## Implement Preprocess Functions\n",
    "### Normalize\n",
    "In the cell below, implement the `normalize` function to take in image data, `x`, and return it as a normalized Numpy array. The values should be in the range of 0 to 1, inclusive.  The return object should be the same shape as `x`."
   ]
  },
  {
   "cell_type": "code",
   "execution_count": 3,
   "metadata": {
    "collapsed": false,
    "deletable": true,
    "editable": true
   },
   "outputs": [
    {
     "name": "stdout",
     "output_type": "stream",
     "text": [
      "Tests Passed\n"
     ]
    }
   ],
   "source": [
    "def normalize(x):\n",
    "    \"\"\"\n",
    "    Normalize a list of sample image data in the range of 0 to 1\n",
    "    : x: List of image data.  The image shape is (32, 32, 3)\n",
    "    : return: Numpy array of normalize data\n",
    "    \"\"\"\n",
    "    # TODO: Implement Function\n",
    "    return x / 255\n",
    "\n",
    "\n",
    "\"\"\"\n",
    "DON'T MODIFY ANYTHING IN THIS CELL THAT IS BELOW THIS LINE\n",
    "\"\"\"\n",
    "tests.test_normalize(normalize)"
   ]
  },
  {
   "cell_type": "markdown",
   "metadata": {
    "deletable": true,
    "editable": true
   },
   "source": [
    "### One-hot encode\n",
    "Just like the previous code cell, you'll be implementing a function for preprocessing.  This time, you'll implement the `one_hot_encode` function. The input, `x`, are a list of labels.  Implement the function to return the list of labels as One-Hot encoded Numpy array.  The possible values for labels are 0 to 9. The one-hot encoding function should return the same encoding for each value between each call to `one_hot_encode`.  Make sure to save the map of encodings outside the function.\n",
    "\n",
    "**Hint:**\n",
    "\n",
    "Look into LabelBinarizer in the preprocessing module of sklearn."
   ]
  },
  {
   "cell_type": "code",
   "execution_count": 4,
   "metadata": {
    "collapsed": false,
    "deletable": true,
    "editable": true
   },
   "outputs": [
    {
     "name": "stdout",
     "output_type": "stream",
     "text": [
      "Tests Passed\n"
     ]
    }
   ],
   "source": [
    "labels = [0,1,2,3,4,5,6,7,8,9]\n",
    "\n",
    "def one_hot_encode(x):\n",
    "    \"\"\"\n",
    "    One hot encode a list of sample labels. Return a one-hot encoded vector for each label.\n",
    "    : x: List of sample Labels\n",
    "    : return: Numpy array of one-hot encoded labels\n",
    "    \"\"\"\n",
    "    # TODO: Implement Function\n",
    "    from sklearn import preprocessing\n",
    "    lb = preprocessing.LabelBinarizer()\n",
    "    lb.fit(labels)\n",
    "    return lb.transform(x)\n",
    "\n",
    "\n",
    "\"\"\"\n",
    "DON'T MODIFY ANYTHING IN THIS CELL THAT IS BELOW THIS LINE\n",
    "\"\"\"\n",
    "tests.test_one_hot_encode(one_hot_encode)"
   ]
  },
  {
   "cell_type": "markdown",
   "metadata": {
    "deletable": true,
    "editable": true
   },
   "source": [
    "### Randomize Data\n",
    "As you saw from exploring the data above, the order of the samples are randomized.  It doesn't hurt to randomize it again, but you don't need to for this dataset."
   ]
  },
  {
   "cell_type": "markdown",
   "metadata": {
    "deletable": true,
    "editable": true
   },
   "source": [
    "## Preprocess all the data and save it\n",
    "Running the code cell below will preprocess all the CIFAR-10 data and save it to file. The code below also uses 10% of the training data for validation."
   ]
  },
  {
   "cell_type": "code",
   "execution_count": 5,
   "metadata": {
    "collapsed": false,
    "deletable": true,
    "editable": true
   },
   "outputs": [],
   "source": [
    "\"\"\"\n",
    "DON'T MODIFY ANYTHING IN THIS CELL\n",
    "\"\"\"\n",
    "# Preprocess Training, Validation, and Testing Data\n",
    "helper.preprocess_and_save_data(cifar10_dataset_folder_path, normalize, one_hot_encode)"
   ]
  },
  {
   "cell_type": "markdown",
   "metadata": {
    "deletable": true,
    "editable": true
   },
   "source": [
    "# Check Point\n",
    "This is your first checkpoint.  If you ever decide to come back to this notebook or have to restart the notebook, you can start from here.  The preprocessed data has been saved to disk."
   ]
  },
  {
   "cell_type": "code",
   "execution_count": 6,
   "metadata": {
    "collapsed": true,
    "deletable": true,
    "editable": true
   },
   "outputs": [],
   "source": [
    "\"\"\"\n",
    "DON'T MODIFY ANYTHING IN THIS CELL\n",
    "\"\"\"\n",
    "import pickle\n",
    "import problem_unittests as tests\n",
    "import helper\n",
    "\n",
    "# Load the Preprocessed Validation data\n",
    "valid_features, valid_labels = pickle.load(open('preprocess_validation.p', mode='rb'))"
   ]
  },
  {
   "cell_type": "markdown",
   "metadata": {
    "deletable": true,
    "editable": true
   },
   "source": [
    "## Build the network\n",
    "For the neural network, you'll build each layer into a function.  Most of the code you've seen has been outside of functions. To test your code more thoroughly, we require that you put each layer in a function.  This allows us to give you better feedback and test for simple mistakes using our unittests before you submit your project.\n",
    "\n",
    ">**Note:** If you're finding it hard to dedicate enough time for this course each week, we've provided a small shortcut to this part of the project. In the next couple of problems, you'll have the option to use classes from the [TensorFlow Layers](https://www.tensorflow.org/api_docs/python/tf/layers) or [TensorFlow Layers (contrib)](https://www.tensorflow.org/api_guides/python/contrib.layers) packages to build each layer, except the layers you build in the \"Convolutional and Max Pooling Layer\" section.  TF Layers is similar to Keras's and TFLearn's abstraction to layers, so it's easy to pickup.\n",
    "\n",
    ">However, if you would like to get the most out of this course, try to solve all the problems _without_ using anything from the TF Layers packages. You **can** still use classes from other packages that happen to have the same name as ones you find in TF Layers! For example, instead of using the TF Layers version of the `conv2d` class, [tf.layers.conv2d](https://www.tensorflow.org/api_docs/python/tf/layers/conv2d), you would want to use the TF Neural Network version of `conv2d`, [tf.nn.conv2d](https://www.tensorflow.org/api_docs/python/tf/nn/conv2d). \n",
    "\n",
    "Let's begin!\n",
    "\n",
    "### Input\n",
    "The neural network needs to read the image data, one-hot encoded labels, and dropout keep probability. Implement the following functions\n",
    "* Implement `neural_net_image_input`\n",
    " * Return a [TF Placeholder](https://www.tensorflow.org/api_docs/python/tf/placeholder)\n",
    " * Set the shape using `image_shape` with batch size set to `None`.\n",
    " * Name the TensorFlow placeholder \"x\" using the TensorFlow `name` parameter in the [TF Placeholder](https://www.tensorflow.org/api_docs/python/tf/placeholder).\n",
    "* Implement `neural_net_label_input`\n",
    " * Return a [TF Placeholder](https://www.tensorflow.org/api_docs/python/tf/placeholder)\n",
    " * Set the shape using `n_classes` with batch size set to `None`.\n",
    " * Name the TensorFlow placeholder \"y\" using the TensorFlow `name` parameter in the [TF Placeholder](https://www.tensorflow.org/api_docs/python/tf/placeholder).\n",
    "* Implement `neural_net_keep_prob_input`\n",
    " * Return a [TF Placeholder](https://www.tensorflow.org/api_docs/python/tf/placeholder) for dropout keep probability.\n",
    " * Name the TensorFlow placeholder \"keep_prob\" using the TensorFlow `name` parameter in the [TF Placeholder](https://www.tensorflow.org/api_docs/python/tf/placeholder).\n",
    "\n",
    "These names will be used at the end of the project to load your saved model.\n",
    "\n",
    "Note: `None` for shapes in TensorFlow allow for a dynamic size."
   ]
  },
  {
   "cell_type": "code",
   "execution_count": 7,
   "metadata": {
    "collapsed": false,
    "deletable": true,
    "editable": true
   },
   "outputs": [
    {
     "name": "stdout",
     "output_type": "stream",
     "text": [
      "Image Input Tests Passed.\n",
      "Label Input Tests Passed.\n",
      "Keep Prob Tests Passed.\n"
     ]
    }
   ],
   "source": [
    "import tensorflow as tf\n",
    "\n",
    "def neural_net_image_input(image_shape):\n",
    "    \"\"\"\n",
    "    Return a Tensor for a batch of image input\n",
    "    : image_shape: Shape of the images\n",
    "    : return: Tensor for image input.\n",
    "    \"\"\"\n",
    "    # TODO: Implement Function\n",
    "    x = tf.placeholder(tf.float32, shape=(None, *image_shape), name='x')\n",
    "    return x\n",
    "\n",
    "def neural_net_label_input(n_classes):\n",
    "    \"\"\"\n",
    "    Return a Tensor for a batch of label input\n",
    "    : n_classes: Number of classes\n",
    "    : return: Tensor for label input.\n",
    "    \"\"\"\n",
    "    # TODO: Implement Function\n",
    "    y = tf.placeholder(tf.float32, shape=(None, n_classes), name='y')\n",
    "    return y\n",
    "\n",
    "def neural_net_keep_prob_input():\n",
    "    \"\"\"\n",
    "    Return a Tensor for keep probability\n",
    "    : return: Tensor for keep probability.\n",
    "    \"\"\"\n",
    "    # TODO: Implement Function\n",
    "    keep_prob = tf.placeholder(tf.float32, name='keep_prob')\n",
    "    return keep_prob\n",
    "\n",
    "\"\"\"\n",
    "DON'T MODIFY ANYTHING IN THIS CELL THAT IS BELOW THIS LINE\n",
    "\"\"\"\n",
    "tf.reset_default_graph()\n",
    "tests.test_nn_image_inputs(neural_net_image_input)\n",
    "tests.test_nn_label_inputs(neural_net_label_input)\n",
    "tests.test_nn_keep_prob_inputs(neural_net_keep_prob_input)"
   ]
  },
  {
   "cell_type": "markdown",
   "metadata": {
    "deletable": true,
    "editable": true
   },
   "source": [
    "### Convolution and Max Pooling Layer\n",
    "Convolution layers have a lot of success with images. For this code cell, you should implement the function `conv2d_maxpool` to apply convolution then max pooling:\n",
    "* Create the weight and bias using `conv_ksize`, `conv_num_outputs` and the shape of `x_tensor`.\n",
    "* Apply a convolution to `x_tensor` using weight and `conv_strides`.\n",
    " * We recommend you use same padding, but you're welcome to use any padding.\n",
    "* Add bias\n",
    "* Add a nonlinear activation to the convolution.\n",
    "* Apply Max Pooling using `pool_ksize` and `pool_strides`.\n",
    " * We recommend you use same padding, but you're welcome to use any padding.\n",
    "\n",
    "**Note:** You **can't** use [TensorFlow Layers](https://www.tensorflow.org/api_docs/python/tf/layers) or [TensorFlow Layers (contrib)](https://www.tensorflow.org/api_guides/python/contrib.layers) for **this** layer, but you can still use TensorFlow's [Neural Network](https://www.tensorflow.org/api_docs/python/tf/nn) package. You may still use the shortcut option for all the **other** layers.\n",
    "\n",
    "** Hint: **\n",
    "\n",
    "When unpacking values as an argument in Python, look into the [unpacking](https://docs.python.org/3/tutorial/controlflow.html#unpacking-argument-lists) operator. "
   ]
  },
  {
   "cell_type": "code",
   "execution_count": 8,
   "metadata": {
    "collapsed": false,
    "deletable": true,
    "editable": true
   },
   "outputs": [
    {
     "name": "stdout",
     "output_type": "stream",
     "text": [
      "Tests Passed\n"
     ]
    }
   ],
   "source": [
    "def conv2d_maxpool(x_tensor, conv_num_outputs, conv_ksize, conv_strides, pool_ksize, pool_strides):\n",
    "    \"\"\"\n",
    "    Apply convolution then max pooling to x_tensor\n",
    "    :param x_tensor: TensorFlow Tensor\n",
    "    :param conv_num_outputs: Number of outputs for the convolutional layer\n",
    "    :param conv_ksize: kernal size 2-D Tuple for the convolutional layer\n",
    "    :param conv_strides: Stride 2-D Tuple for convolution\n",
    "    :param pool_ksize: kernal size 2-D Tuple for pool\n",
    "    :param pool_strides: Stride 2-D Tuple for pool\n",
    "    : return: A tensor that represents convolution and max pooling of x_tensor\n",
    "    \"\"\"\n",
    "    # TODO: Implement Function\n",
    "    # Create the weight and bias using conv_ksize, conv_num_outputs and the shape of x_tensor.\n",
    "    #print(x_tensor.shape)\n",
    "    n_inputs = int(x_tensor.shape[3])\n",
    "    weight = tf.Variable(tf.truncated_normal([*conv_ksize, n_inputs, conv_num_outputs], stddev = 1.0 / conv_num_outputs ))\n",
    "    bias = tf.Variable(tf.zeros(conv_num_outputs))\n",
    "\n",
    "    # Apply a convolution to x_tensor using weight and conv_strides. We recommend you use same padding, but you're welcome to use any padding.\n",
    "    #s = [1, *conv_strides, n_inputs]\n",
    "    #print(s)\n",
    "    x_tensor = tf.nn.conv2d(x_tensor, weight, strides=[1, *conv_strides, 1], padding='SAME')\n",
    "\n",
    "    # Add bias\n",
    "    x_tensor = tf.nn.bias_add(x_tensor, bias)\n",
    "\n",
    "    # Add a nonlinear activation to the convolution.\n",
    "    x_tensor = tf.nn.relu(x_tensor)\n",
    "\n",
    "    # Apply Max Pooling using pool_ksize and pool_strides. We recommend you use same padding, but you're welcome to use any padding\n",
    "    x_tensor = tf.nn.max_pool(x_tensor, ksize=[1, *pool_ksize, 1], strides=[1, *pool_strides, 1], padding='SAME')\n",
    "    #print(x_tensor.shape)\n",
    "    return x_tensor\n",
    "\n",
    "\n",
    "\"\"\"\n",
    "DON'T MODIFY ANYTHING IN THIS CELL THAT IS BELOW THIS LINE\n",
    "\"\"\"\n",
    "tests.test_con_pool(conv2d_maxpool)"
   ]
  },
  {
   "cell_type": "markdown",
   "metadata": {
    "deletable": true,
    "editable": true
   },
   "source": [
    "### Flatten Layer\n",
    "Implement the `flatten` function to change the dimension of `x_tensor` from a 4-D tensor to a 2-D tensor.  The output should be the shape (*Batch Size*, *Flattened Image Size*). Shortcut option: you can use classes from the [TensorFlow Layers](https://www.tensorflow.org/api_docs/python/tf/layers) or [TensorFlow Layers (contrib)](https://www.tensorflow.org/api_guides/python/contrib.layers) packages for this layer. For more of a challenge, only use other TensorFlow packages."
   ]
  },
  {
   "cell_type": "code",
   "execution_count": 9,
   "metadata": {
    "collapsed": false,
    "deletable": true,
    "editable": true
   },
   "outputs": [
    {
     "name": "stdout",
     "output_type": "stream",
     "text": [
      "Tests Passed\n"
     ]
    }
   ],
   "source": [
    "def flatten(x_tensor):\n",
    "    \"\"\"\n",
    "    Flatten x_tensor to (Batch Size, Flattened Image Size)\n",
    "    : x_tensor: A tensor of size (Batch Size, ...), where ... are the image dimensions.\n",
    "    : return: A tensor of size (Batch Size, Flattened Image Size).\n",
    "    \"\"\"\n",
    "    # TODO: Implement Function\n",
    "    return tf.reshape(x_tensor, [-1, np.prod(x_tensor.get_shape().as_list()[1:])])\n",
    "\n",
    "\"\"\"\n",
    "DON'T MODIFY ANYTHING IN THIS CELL THAT IS BELOW THIS LINE\n",
    "\"\"\"\n",
    "tests.test_flatten(flatten)"
   ]
  },
  {
   "cell_type": "markdown",
   "metadata": {
    "deletable": true,
    "editable": true
   },
   "source": [
    "### Fully-Connected Layer\n",
    "Implement the `fully_conn` function to apply a fully connected layer to `x_tensor` with the shape (*Batch Size*, *num_outputs*). Shortcut option: you can use classes from the [TensorFlow Layers](https://www.tensorflow.org/api_docs/python/tf/layers) or [TensorFlow Layers (contrib)](https://www.tensorflow.org/api_guides/python/contrib.layers) packages for this layer. For more of a challenge, only use other TensorFlow packages."
   ]
  },
  {
   "cell_type": "code",
   "execution_count": 10,
   "metadata": {
    "collapsed": false,
    "deletable": true,
    "editable": true
   },
   "outputs": [
    {
     "name": "stdout",
     "output_type": "stream",
     "text": [
      "Tests Passed\n"
     ]
    }
   ],
   "source": [
    "def fully_conn(x_tensor, num_outputs):\n",
    "    \"\"\"\n",
    "    Apply a fully connected layer to x_tensor using weight and bias\n",
    "    : x_tensor: A 2-D tensor where the first dimension is batch size.\n",
    "    : num_outputs: The number of output that the new tensor should be.\n",
    "    : return: A 2-D tensor where the second dimension is num_outputs.\n",
    "    \"\"\"\n",
    "    # TODO: Implement Function\n",
    "    n_inputs = int(x_tensor.shape[1])\n",
    "    weight = tf.Variable(tf.truncated_normal([n_inputs, num_outputs], stddev = 1.0 / num_outputs ))\n",
    "    bias = tf.Variable(tf.zeros(num_outputs))\n",
    "    fc = tf.add(tf.matmul(x_tensor, weight), bias)\n",
    "    return fc\n",
    "\n",
    "\"\"\"\n",
    "DON'T MODIFY ANYTHING IN THIS CELL THAT IS BELOW THIS LINE\n",
    "\"\"\"\n",
    "tests.test_fully_conn(fully_conn)"
   ]
  },
  {
   "cell_type": "markdown",
   "metadata": {
    "deletable": true,
    "editable": true
   },
   "source": [
    "### Output Layer\n",
    "Implement the `output` function to apply a fully connected layer to `x_tensor` with the shape (*Batch Size*, *num_outputs*). Shortcut option: you can use classes from the [TensorFlow Layers](https://www.tensorflow.org/api_docs/python/tf/layers) or [TensorFlow Layers (contrib)](https://www.tensorflow.org/api_guides/python/contrib.layers) packages for this layer. For more of a challenge, only use other TensorFlow packages.\n",
    "\n",
    "**Note:** Activation, softmax, or cross entropy should **not** be applied to this."
   ]
  },
  {
   "cell_type": "code",
   "execution_count": 11,
   "metadata": {
    "collapsed": false,
    "deletable": true,
    "editable": true
   },
   "outputs": [
    {
     "name": "stdout",
     "output_type": "stream",
     "text": [
      "Tests Passed\n"
     ]
    }
   ],
   "source": [
    "def output(x_tensor, num_outputs):\n",
    "    \"\"\"\n",
    "    Apply a output layer to x_tensor using weight and bias\n",
    "    : x_tensor: A 2-D tensor where the first dimension is batch size.\n",
    "    : num_outputs: The number of output that the new tensor should be.\n",
    "    : return: A 2-D tensor where the second dimension is num_outputs.\n",
    "    \"\"\"\n",
    "    # TODO: Implement Function\n",
    "    n_inputs = int(x_tensor.shape[1])\n",
    "    weight = tf.Variable(tf.truncated_normal([n_inputs, num_outputs], stddev = 1.0 / num_outputs ))\n",
    "    bias = tf.Variable(tf.zeros(num_outputs))\n",
    "    out = tf.add(tf.matmul(x_tensor, weight), bias)\n",
    "    return out\n",
    "\n",
    "\"\"\"\n",
    "DON'T MODIFY ANYTHING IN THIS CELL THAT IS BELOW THIS LINE\n",
    "\"\"\"\n",
    "tests.test_output(output)"
   ]
  },
  {
   "cell_type": "markdown",
   "metadata": {
    "deletable": true,
    "editable": true
   },
   "source": [
    "### Create Convolutional Model\n",
    "Implement the function `conv_net` to create a convolutional neural network model. The function takes in a batch of images, `x`, and outputs logits.  Use the layers you created above to create this model:\n",
    "\n",
    "* Apply 1, 2, or 3 Convolution and Max Pool layers\n",
    "* Apply a Flatten Layer\n",
    "* Apply 1, 2, or 3 Fully Connected Layers\n",
    "* Apply an Output Layer\n",
    "* Return the output\n",
    "* Apply [TensorFlow's Dropout](https://www.tensorflow.org/api_docs/python/tf/nn/dropout) to one or more layers in the model using `keep_prob`. "
   ]
  },
  {
   "cell_type": "code",
   "execution_count": 12,
   "metadata": {
    "collapsed": false,
    "deletable": true,
    "editable": true
   },
   "outputs": [
    {
     "name": "stdout",
     "output_type": "stream",
     "text": [
      "Neural Network Built!\n"
     ]
    }
   ],
   "source": [
    "def conv_net(x, keep_prob):\n",
    "    \"\"\"\n",
    "    Create a convolutional neural network model\n",
    "    : x: Placeholder tensor that holds image data.\n",
    "    : keep_prob: Placeholder tensor that hold dropout keep probability.\n",
    "    : return: Tensor that represents logits\n",
    "    \"\"\"\n",
    "    # TODO: Apply 1, 2, or 3 Convolution and Max Pool layers\n",
    "    #    Play around with different number of outputs, kernel size and stride\n",
    "    # Function Definition from Above:\n",
    "    #    conv2d_maxpool(x_tensor, conv_num_outputs, conv_ksize, conv_strides, pool_ksize, pool_strides)\n",
    "   \n",
    "    conv_ksize = 4, 4\n",
    "    conv_strides = 1, 1\n",
    "    pool_ksize = 2, 2\n",
    "    pool_strides = 2, 2\n",
    "    conv1 = conv2d_maxpool(x, 16, conv_ksize, conv_strides, pool_ksize, pool_strides)\n",
    "\n",
    "    conv2 = conv2d_maxpool(conv1, 32, conv_ksize, conv_strides, pool_ksize, pool_strides)\n",
    "\n",
    "    conv3 = conv2d_maxpool(conv2, 64, conv_ksize, conv_strides, pool_ksize, pool_strides)\n",
    "    \n",
    "    # TODO: Apply a Flatten Layer\n",
    "    # Function Definition from Above:\n",
    "    #   flatten(x_tensor)\n",
    "    fc1 = flatten(conv3)\n",
    "\n",
    "    # TODO: Apply 1, 2, or 3 Fully Connected Layers\n",
    "    #    Play around with different number of outputs\n",
    "    # Function Definition from Above:\n",
    "    #   fully_conn(x_tensor, num_outputs)\n",
    "    fc1 = fully_conn(fc1, 1024)\n",
    "    fc1 = tf.nn.relu(fc1)\n",
    "    fc1 = tf.nn.dropout(fc1, keep_prob)\n",
    "    \n",
    "    fc2 = fully_conn(fc1, 1024)\n",
    "    fc2 = tf.nn.relu(fc2)\n",
    "    fc2 = tf.nn.dropout(fc2, keep_prob)\n",
    "    \n",
    "    # TODO: Apply an Output Layer\n",
    "    #    Set this to the number of classes\n",
    "    # Function Definition from Above:\n",
    "    #   output(x_tensor, num_outputs)\n",
    "    out = output(fc2, 10)\n",
    "\n",
    "    # TODO: return output\n",
    "    return out\n",
    "\n",
    "\n",
    "\"\"\"\n",
    "DON'T MODIFY ANYTHING IN THIS CELL THAT IS BELOW THIS LINE\n",
    "\"\"\"\n",
    "\n",
    "##############################\n",
    "## Build the Neural Network ##\n",
    "##############################\n",
    "\n",
    "# Remove previous weights, bias, inputs, etc..\n",
    "tf.reset_default_graph()\n",
    "\n",
    "# Inputs\n",
    "x = neural_net_image_input((32, 32, 3))\n",
    "y = neural_net_label_input(10)\n",
    "keep_prob = neural_net_keep_prob_input()\n",
    "\n",
    "# Model\n",
    "logits = conv_net(x, keep_prob)\n",
    "\n",
    "# Name logits Tensor, so that is can be loaded from disk after training\n",
    "logits = tf.identity(logits, name='logits')\n",
    "\n",
    "# Loss and Optimizer\n",
    "cost = tf.reduce_mean(tf.nn.softmax_cross_entropy_with_logits(logits=logits, labels=y))\n",
    "optimizer = tf.train.AdamOptimizer().minimize(cost)\n",
    "\n",
    "# Accuracy\n",
    "correct_pred = tf.equal(tf.argmax(logits, 1), tf.argmax(y, 1))\n",
    "accuracy = tf.reduce_mean(tf.cast(correct_pred, tf.float32), name='accuracy')\n",
    "\n",
    "tests.test_conv_net(conv_net)"
   ]
  },
  {
   "cell_type": "markdown",
   "metadata": {
    "deletable": true,
    "editable": true
   },
   "source": [
    "## Train the Neural Network\n",
    "### Single Optimization\n",
    "Implement the function `train_neural_network` to do a single optimization.  The optimization should use `optimizer` to optimize in `session` with a `feed_dict` of the following:\n",
    "* `x` for image input\n",
    "* `y` for labels\n",
    "* `keep_prob` for keep probability for dropout\n",
    "\n",
    "This function will be called for each batch, so `tf.global_variables_initializer()` has already been called.\n",
    "\n",
    "Note: Nothing needs to be returned. This function is only optimizing the neural network."
   ]
  },
  {
   "cell_type": "code",
   "execution_count": 13,
   "metadata": {
    "collapsed": false,
    "deletable": true,
    "editable": true
   },
   "outputs": [
    {
     "name": "stdout",
     "output_type": "stream",
     "text": [
      "Tests Passed\n"
     ]
    }
   ],
   "source": [
    "def train_neural_network(session, optimizer, keep_probability, feature_batch, label_batch):\n",
    "    \"\"\"\n",
    "    Optimize the session on a batch of images and labels\n",
    "    : session: Current TensorFlow session\n",
    "    : optimizer: TensorFlow optimizer function\n",
    "    : keep_probability: keep probability\n",
    "    : feature_batch: Batch of Numpy image data\n",
    "    : label_batch: Batch of Numpy label data\n",
    "    \"\"\"\n",
    "    # TODO: Implement Function\n",
    "    session.run(optimizer, feed_dict={x: feature_batch, y: label_batch, keep_prob: keep_probability})\n",
    "\n",
    "\n",
    "\"\"\"\n",
    "DON'T MODIFY ANYTHING IN THIS CELL THAT IS BELOW THIS LINE\n",
    "\"\"\"\n",
    "tests.test_train_nn(train_neural_network)"
   ]
  },
  {
   "cell_type": "markdown",
   "metadata": {
    "deletable": true,
    "editable": true
   },
   "source": [
    "### Show Stats\n",
    "Implement the function `print_stats` to print loss and validation accuracy.  Use the global variables `valid_features` and `valid_labels` to calculate validation accuracy.  Use a keep probability of `1.0` to calculate the loss and validation accuracy."
   ]
  },
  {
   "cell_type": "code",
   "execution_count": 14,
   "metadata": {
    "collapsed": false,
    "deletable": true,
    "editable": true
   },
   "outputs": [],
   "source": [
    "def print_stats(session, feature_batch, label_batch, cost, accuracy):\n",
    "    \"\"\"\n",
    "    Print information about loss and validation accuracy\n",
    "    : session: Current TensorFlow session\n",
    "    : feature_batch: Batch of Numpy image data\n",
    "    : label_batch: Batch of Numpy label data\n",
    "    : cost: TensorFlow cost function\n",
    "    : accuracy: TensorFlow accuracy function\n",
    "    \"\"\"\n",
    "    # TODO: Implement Function\n",
    "    loss, acc = sess.run([cost, accuracy], feed_dict={x: feature_batch, y: label_batch, keep_prob: 1.})\n",
    "    print(\"Minibatch Loss= \" + \"{:.6f}\".format(loss) + \", Training Accuracy= \" + \"{:.5f}\".format(acc))\n",
    "    print(\"Validation Accuracy:\", session.run(accuracy, feed_dict={x: valid_features, y: valid_labels, keep_prob: 1.}))"
   ]
  },
  {
   "cell_type": "markdown",
   "metadata": {
    "deletable": true,
    "editable": true
   },
   "source": [
    "### Hyperparameters\n",
    "Tune the following parameters:\n",
    "* Set `epochs` to the number of iterations until the network stops learning or start overfitting\n",
    "* Set `batch_size` to the highest number that your machine has memory for.  Most people set them to common sizes of memory:\n",
    " * 64\n",
    " * 128\n",
    " * 256\n",
    " * ...\n",
    "* Set `keep_probability` to the probability of keeping a node using dropout"
   ]
  },
  {
   "cell_type": "code",
   "execution_count": 17,
   "metadata": {
    "collapsed": true,
    "deletable": true,
    "editable": true
   },
   "outputs": [],
   "source": [
    "# TODO: Tune Parameters\n",
    "epochs = 25\n",
    "batch_size = 256\n",
    "keep_probability = 0.75"
   ]
  },
  {
   "cell_type": "markdown",
   "metadata": {
    "deletable": true,
    "editable": true
   },
   "source": [
    "### Train on a Single CIFAR-10 Batch\n",
    "Instead of training the neural network on all the CIFAR-10 batches of data, let's use a single batch. This should save time while you iterate on the model to get a better accuracy.  Once the final validation accuracy is 50% or greater, run the model on all the data in the next section."
   ]
  },
  {
   "cell_type": "code",
   "execution_count": 18,
   "metadata": {
    "collapsed": false,
    "deletable": true,
    "editable": true
   },
   "outputs": [
    {
     "name": "stdout",
     "output_type": "stream",
     "text": [
      "Checking the Training on a Single Batch...\n",
      "Epoch  1, CIFAR-10 Batch 1:  Minibatch Loss= 2.169916, Training Accuracy= 0.20000\n",
      "Validation Accuracy: 0.2354\n",
      "Epoch  2, CIFAR-10 Batch 1:  Minibatch Loss= 1.967723, Training Accuracy= 0.30000\n",
      "Validation Accuracy: 0.335\n",
      "Epoch  3, CIFAR-10 Batch 1:  Minibatch Loss= 1.939090, Training Accuracy= 0.40000\n",
      "Validation Accuracy: 0.3626\n",
      "Epoch  4, CIFAR-10 Batch 1:  Minibatch Loss= 1.673695, Training Accuracy= 0.50000\n",
      "Validation Accuracy: 0.4034\n",
      "Epoch  5, CIFAR-10 Batch 1:  Minibatch Loss= 1.549779, Training Accuracy= 0.52500\n",
      "Validation Accuracy: 0.4216\n",
      "Epoch  6, CIFAR-10 Batch 1:  Minibatch Loss= 1.357219, Training Accuracy= 0.57500\n",
      "Validation Accuracy: 0.4596\n",
      "Epoch  7, CIFAR-10 Batch 1:  Minibatch Loss= 1.300526, Training Accuracy= 0.55000\n",
      "Validation Accuracy: 0.4606\n",
      "Epoch  8, CIFAR-10 Batch 1:  Minibatch Loss= 1.043329, Training Accuracy= 0.55000\n",
      "Validation Accuracy: 0.4792\n",
      "Epoch  9, CIFAR-10 Batch 1:  Minibatch Loss= 1.006766, Training Accuracy= 0.75000\n",
      "Validation Accuracy: 0.503\n",
      "Epoch 10, CIFAR-10 Batch 1:  Minibatch Loss= 0.847996, Training Accuracy= 0.70000\n",
      "Validation Accuracy: 0.5288\n",
      "Epoch 11, CIFAR-10 Batch 1:  Minibatch Loss= 0.757871, Training Accuracy= 0.75000\n",
      "Validation Accuracy: 0.536\n",
      "Epoch 12, CIFAR-10 Batch 1:  Minibatch Loss= 0.711896, Training Accuracy= 0.75000\n",
      "Validation Accuracy: 0.528\n",
      "Epoch 13, CIFAR-10 Batch 1:  Minibatch Loss= 0.604481, Training Accuracy= 0.77500\n",
      "Validation Accuracy: 0.5426\n",
      "Epoch 14, CIFAR-10 Batch 1:  Minibatch Loss= 0.530672, Training Accuracy= 0.80000\n",
      "Validation Accuracy: 0.547\n",
      "Epoch 15, CIFAR-10 Batch 1:  Minibatch Loss= 0.421421, Training Accuracy= 0.90000\n",
      "Validation Accuracy: 0.5538\n",
      "Epoch 16, CIFAR-10 Batch 1:  Minibatch Loss= 0.337931, Training Accuracy= 0.92500\n",
      "Validation Accuracy: 0.5576\n",
      "Epoch 17, CIFAR-10 Batch 1:  Minibatch Loss= 0.355181, Training Accuracy= 0.87500\n",
      "Validation Accuracy: 0.5698\n",
      "Epoch 18, CIFAR-10 Batch 1:  Minibatch Loss= 0.285662, Training Accuracy= 0.92500\n",
      "Validation Accuracy: 0.5676\n",
      "Epoch 19, CIFAR-10 Batch 1:  Minibatch Loss= 0.204280, Training Accuracy= 0.97500\n",
      "Validation Accuracy: 0.5908\n",
      "Epoch 20, CIFAR-10 Batch 1:  Minibatch Loss= 0.190783, Training Accuracy= 1.00000\n",
      "Validation Accuracy: 0.578\n",
      "Epoch 21, CIFAR-10 Batch 1:  Minibatch Loss= 0.131169, Training Accuracy= 1.00000\n",
      "Validation Accuracy: 0.5736\n",
      "Epoch 22, CIFAR-10 Batch 1:  Minibatch Loss= 0.109830, Training Accuracy= 1.00000\n",
      "Validation Accuracy: 0.5956\n",
      "Epoch 23, CIFAR-10 Batch 1:  Minibatch Loss= 0.116418, Training Accuracy= 1.00000\n",
      "Validation Accuracy: 0.5992\n",
      "Epoch 24, CIFAR-10 Batch 1:  Minibatch Loss= 0.112897, Training Accuracy= 0.97500\n",
      "Validation Accuracy: 0.5934\n",
      "Epoch 25, CIFAR-10 Batch 1:  Minibatch Loss= 0.059414, Training Accuracy= 1.00000\n",
      "Validation Accuracy: 0.5916\n"
     ]
    }
   ],
   "source": [
    "\"\"\"\n",
    "DON'T MODIFY ANYTHING IN THIS CELL\n",
    "\"\"\"\n",
    "print('Checking the Training on a Single Batch...')\n",
    "with tf.Session() as sess:\n",
    "    # Initializing the variables\n",
    "    sess.run(tf.global_variables_initializer())\n",
    "    \n",
    "    # Training cycle\n",
    "    for epoch in range(epochs):\n",
    "        batch_i = 1\n",
    "        for batch_features, batch_labels in helper.load_preprocess_training_batch(batch_i, batch_size):\n",
    "            train_neural_network(sess, optimizer, keep_probability, batch_features, batch_labels)\n",
    "        print('Epoch {:>2}, CIFAR-10 Batch {}:  '.format(epoch + 1, batch_i), end='')\n",
    "        print_stats(sess, batch_features, batch_labels, cost, accuracy)"
   ]
  },
  {
   "cell_type": "markdown",
   "metadata": {
    "deletable": true,
    "editable": true
   },
   "source": [
    "### Fully Train the Model\n",
    "Now that you got a good accuracy with a single CIFAR-10 batch, try it with all five batches."
   ]
  },
  {
   "cell_type": "code",
   "execution_count": 19,
   "metadata": {
    "collapsed": false,
    "deletable": true,
    "editable": true
   },
   "outputs": [
    {
     "name": "stdout",
     "output_type": "stream",
     "text": [
      "Training...\n",
      "Epoch  1, CIFAR-10 Batch 1:  Minibatch Loss= 2.124897, Training Accuracy= 0.20000\n",
      "Validation Accuracy: 0.2352\n",
      "Epoch  1, CIFAR-10 Batch 2:  Minibatch Loss= 1.770147, Training Accuracy= 0.45000\n",
      "Validation Accuracy: 0.2956\n",
      "Epoch  1, CIFAR-10 Batch 3:  Minibatch Loss= 1.515465, Training Accuracy= 0.40000\n",
      "Validation Accuracy: 0.378\n",
      "Epoch  1, CIFAR-10 Batch 4:  Minibatch Loss= 1.628867, Training Accuracy= 0.45000\n",
      "Validation Accuracy: 0.4348\n",
      "Epoch  1, CIFAR-10 Batch 5:  Minibatch Loss= 1.504217, Training Accuracy= 0.45000\n",
      "Validation Accuracy: 0.4396\n",
      "Epoch  2, CIFAR-10 Batch 1:  Minibatch Loss= 1.569677, Training Accuracy= 0.47500\n",
      "Validation Accuracy: 0.4362\n",
      "Epoch  2, CIFAR-10 Batch 2:  Minibatch Loss= 1.339414, Training Accuracy= 0.50000\n",
      "Validation Accuracy: 0.4932\n",
      "Epoch  2, CIFAR-10 Batch 3:  Minibatch Loss= 1.088478, Training Accuracy= 0.62500\n",
      "Validation Accuracy: 0.5124\n",
      "Epoch  2, CIFAR-10 Batch 4:  Minibatch Loss= 1.224760, Training Accuracy= 0.52500\n",
      "Validation Accuracy: 0.5296\n",
      "Epoch  2, CIFAR-10 Batch 5:  Minibatch Loss= 1.248667, Training Accuracy= 0.57500\n",
      "Validation Accuracy: 0.5348\n",
      "Epoch  3, CIFAR-10 Batch 1:  Minibatch Loss= 1.256443, Training Accuracy= 0.60000\n",
      "Validation Accuracy: 0.542\n",
      "Epoch  3, CIFAR-10 Batch 2:  Minibatch Loss= 1.047719, Training Accuracy= 0.55000\n",
      "Validation Accuracy: 0.5474\n",
      "Epoch  3, CIFAR-10 Batch 3:  Minibatch Loss= 0.875355, Training Accuracy= 0.72500\n",
      "Validation Accuracy: 0.5596\n",
      "Epoch  3, CIFAR-10 Batch 4:  Minibatch Loss= 0.997445, Training Accuracy= 0.57500\n",
      "Validation Accuracy: 0.578\n",
      "Epoch  3, CIFAR-10 Batch 5:  Minibatch Loss= 0.957757, Training Accuracy= 0.67500\n",
      "Validation Accuracy: 0.6056\n",
      "Epoch  4, CIFAR-10 Batch 1:  Minibatch Loss= 1.025947, Training Accuracy= 0.62500\n",
      "Validation Accuracy: 0.5876\n",
      "Epoch  4, CIFAR-10 Batch 2:  Minibatch Loss= 0.768178, Training Accuracy= 0.65000\n",
      "Validation Accuracy: 0.5928\n",
      "Epoch  4, CIFAR-10 Batch 3:  Minibatch Loss= 0.645767, Training Accuracy= 0.77500\n",
      "Validation Accuracy: 0.6076\n",
      "Epoch  4, CIFAR-10 Batch 4:  Minibatch Loss= 0.765327, Training Accuracy= 0.67500\n",
      "Validation Accuracy: 0.6236\n",
      "Epoch  4, CIFAR-10 Batch 5:  Minibatch Loss= 0.762848, Training Accuracy= 0.77500\n",
      "Validation Accuracy: 0.625\n",
      "Epoch  5, CIFAR-10 Batch 1:  Minibatch Loss= 0.742237, Training Accuracy= 0.72500\n",
      "Validation Accuracy: 0.6314\n",
      "Epoch  5, CIFAR-10 Batch 2:  Minibatch Loss= 0.567864, Training Accuracy= 0.77500\n",
      "Validation Accuracy: 0.63\n",
      "Epoch  5, CIFAR-10 Batch 3:  Minibatch Loss= 0.453733, Training Accuracy= 0.80000\n",
      "Validation Accuracy: 0.6532\n",
      "Epoch  5, CIFAR-10 Batch 4:  Minibatch Loss= 0.517437, Training Accuracy= 0.87500\n",
      "Validation Accuracy: 0.655\n",
      "Epoch  5, CIFAR-10 Batch 5:  Minibatch Loss= 0.529388, Training Accuracy= 0.90000\n",
      "Validation Accuracy: 0.6584\n",
      "Epoch  6, CIFAR-10 Batch 1:  Minibatch Loss= 0.577691, Training Accuracy= 0.80000\n",
      "Validation Accuracy: 0.6594\n",
      "Epoch  6, CIFAR-10 Batch 2:  Minibatch Loss= 0.410697, Training Accuracy= 0.87500\n",
      "Validation Accuracy: 0.6332\n",
      "Epoch  6, CIFAR-10 Batch 3:  Minibatch Loss= 0.369489, Training Accuracy= 0.85000\n",
      "Validation Accuracy: 0.669\n",
      "Epoch  6, CIFAR-10 Batch 4:  Minibatch Loss= 0.416852, Training Accuracy= 0.90000\n",
      "Validation Accuracy: 0.6722\n",
      "Epoch  6, CIFAR-10 Batch 5:  Minibatch Loss= 0.360716, Training Accuracy= 0.95000\n",
      "Validation Accuracy: 0.6688\n",
      "Epoch  7, CIFAR-10 Batch 1:  Minibatch Loss= 0.460179, Training Accuracy= 0.85000\n",
      "Validation Accuracy: 0.6784\n",
      "Epoch  7, CIFAR-10 Batch 2:  Minibatch Loss= 0.324323, Training Accuracy= 0.90000\n",
      "Validation Accuracy: 0.662\n",
      "Epoch  7, CIFAR-10 Batch 3:  Minibatch Loss= 0.294162, Training Accuracy= 0.92500\n",
      "Validation Accuracy: 0.6886\n",
      "Epoch  7, CIFAR-10 Batch 4:  Minibatch Loss= 0.336189, Training Accuracy= 0.95000\n",
      "Validation Accuracy: 0.6736\n",
      "Epoch  7, CIFAR-10 Batch 5:  Minibatch Loss= 0.280772, Training Accuracy= 0.92500\n",
      "Validation Accuracy: 0.6638\n",
      "Epoch  8, CIFAR-10 Batch 1:  Minibatch Loss= 0.373433, Training Accuracy= 0.90000\n",
      "Validation Accuracy: 0.6996\n",
      "Epoch  8, CIFAR-10 Batch 2:  Minibatch Loss= 0.235864, Training Accuracy= 0.95000\n",
      "Validation Accuracy: 0.6832\n",
      "Epoch  8, CIFAR-10 Batch 3:  Minibatch Loss= 0.229633, Training Accuracy= 0.97500\n",
      "Validation Accuracy: 0.696\n",
      "Epoch  8, CIFAR-10 Batch 4:  Minibatch Loss= 0.230950, Training Accuracy= 0.97500\n",
      "Validation Accuracy: 0.6852\n",
      "Epoch  8, CIFAR-10 Batch 5:  Minibatch Loss= 0.187198, Training Accuracy= 0.97500\n",
      "Validation Accuracy: 0.7022\n",
      "Epoch  9, CIFAR-10 Batch 1:  Minibatch Loss= 0.269964, Training Accuracy= 0.95000\n",
      "Validation Accuracy: 0.6958\n",
      "Epoch  9, CIFAR-10 Batch 2:  Minibatch Loss= 0.188108, Training Accuracy= 0.95000\n",
      "Validation Accuracy: 0.6892\n",
      "Epoch  9, CIFAR-10 Batch 3:  Minibatch Loss= 0.168699, Training Accuracy= 1.00000\n",
      "Validation Accuracy: 0.6962\n",
      "Epoch  9, CIFAR-10 Batch 4:  Minibatch Loss= 0.173604, Training Accuracy= 0.97500\n",
      "Validation Accuracy: 0.689\n",
      "Epoch  9, CIFAR-10 Batch 5:  Minibatch Loss= 0.155639, Training Accuracy= 0.97500\n",
      "Validation Accuracy: 0.6828\n",
      "Epoch 10, CIFAR-10 Batch 1:  Minibatch Loss= 0.244009, Training Accuracy= 0.95000\n",
      "Validation Accuracy: 0.6948\n",
      "Epoch 10, CIFAR-10 Batch 2:  Minibatch Loss= 0.135489, Training Accuracy= 0.97500\n",
      "Validation Accuracy: 0.6964\n",
      "Epoch 10, CIFAR-10 Batch 3:  Minibatch Loss= 0.112060, Training Accuracy= 1.00000\n",
      "Validation Accuracy: 0.708\n",
      "Epoch 10, CIFAR-10 Batch 4:  Minibatch Loss= 0.129957, Training Accuracy= 1.00000\n",
      "Validation Accuracy: 0.6888\n",
      "Epoch 10, CIFAR-10 Batch 5:  Minibatch Loss= 0.109924, Training Accuracy= 1.00000\n",
      "Validation Accuracy: 0.7004\n",
      "Epoch 11, CIFAR-10 Batch 1:  Minibatch Loss= 0.169746, Training Accuracy= 0.97500\n",
      "Validation Accuracy: 0.7094\n",
      "Epoch 11, CIFAR-10 Batch 2:  Minibatch Loss= 0.112585, Training Accuracy= 1.00000\n",
      "Validation Accuracy: 0.696\n",
      "Epoch 11, CIFAR-10 Batch 3:  Minibatch Loss= 0.090942, Training Accuracy= 1.00000\n",
      "Validation Accuracy: 0.6888\n",
      "Epoch 11, CIFAR-10 Batch 4:  Minibatch Loss= 0.101630, Training Accuracy= 1.00000\n",
      "Validation Accuracy: 0.7008\n",
      "Epoch 11, CIFAR-10 Batch 5:  Minibatch Loss= 0.096484, Training Accuracy= 1.00000\n",
      "Validation Accuracy: 0.6984\n",
      "Epoch 12, CIFAR-10 Batch 1:  Minibatch Loss= 0.119527, Training Accuracy= 0.97500\n",
      "Validation Accuracy: 0.7004\n",
      "Epoch 12, CIFAR-10 Batch 2:  Minibatch Loss= 0.082927, Training Accuracy= 1.00000\n",
      "Validation Accuracy: 0.694\n",
      "Epoch 12, CIFAR-10 Batch 3:  Minibatch Loss= 0.123661, Training Accuracy= 1.00000\n",
      "Validation Accuracy: 0.6622\n",
      "Epoch 12, CIFAR-10 Batch 4:  Minibatch Loss= 0.083816, Training Accuracy= 1.00000\n",
      "Validation Accuracy: 0.7134\n",
      "Epoch 12, CIFAR-10 Batch 5:  Minibatch Loss= 0.057757, Training Accuracy= 1.00000\n",
      "Validation Accuracy: 0.7052\n",
      "Epoch 13, CIFAR-10 Batch 1:  Minibatch Loss= 0.111212, Training Accuracy= 0.97500\n",
      "Validation Accuracy: 0.6782\n",
      "Epoch 13, CIFAR-10 Batch 2:  Minibatch Loss= 0.078412, Training Accuracy= 1.00000\n",
      "Validation Accuracy: 0.708\n",
      "Epoch 13, CIFAR-10 Batch 3:  Minibatch Loss= 0.094985, Training Accuracy= 1.00000\n",
      "Validation Accuracy: 0.6848\n",
      "Epoch 13, CIFAR-10 Batch 4:  Minibatch Loss= 0.083928, Training Accuracy= 1.00000\n",
      "Validation Accuracy: 0.7088\n",
      "Epoch 13, CIFAR-10 Batch 5:  Minibatch Loss= 0.064219, Training Accuracy= 1.00000\n",
      "Validation Accuracy: 0.7118\n",
      "Epoch 14, CIFAR-10 Batch 1:  Minibatch Loss= 0.063791, Training Accuracy= 1.00000\n",
      "Validation Accuracy: 0.6888\n",
      "Epoch 14, CIFAR-10 Batch 2:  Minibatch Loss= 0.061398, Training Accuracy= 1.00000\n",
      "Validation Accuracy: 0.7078\n",
      "Epoch 14, CIFAR-10 Batch 3:  Minibatch Loss= 0.051695, Training Accuracy= 1.00000\n",
      "Validation Accuracy: 0.6908\n",
      "Epoch 14, CIFAR-10 Batch 4:  Minibatch Loss= 0.056150, Training Accuracy= 1.00000\n",
      "Validation Accuracy: 0.7046\n",
      "Epoch 14, CIFAR-10 Batch 5:  Minibatch Loss= 0.048816, Training Accuracy= 1.00000\n",
      "Validation Accuracy: 0.718\n",
      "Epoch 15, CIFAR-10 Batch 1:  Minibatch Loss= 0.069808, Training Accuracy= 0.97500\n",
      "Validation Accuracy: 0.6908\n",
      "Epoch 15, CIFAR-10 Batch 2:  Minibatch Loss= 0.047510, Training Accuracy= 1.00000\n",
      "Validation Accuracy: 0.709\n",
      "Epoch 15, CIFAR-10 Batch 3:  Minibatch Loss= 0.045672, Training Accuracy= 1.00000\n",
      "Validation Accuracy: 0.7004\n",
      "Epoch 15, CIFAR-10 Batch 4:  Minibatch Loss= 0.051277, Training Accuracy= 1.00000\n",
      "Validation Accuracy: 0.7002\n",
      "Epoch 15, CIFAR-10 Batch 5:  Minibatch Loss= 0.051768, Training Accuracy= 1.00000\n",
      "Validation Accuracy: 0.6964\n",
      "Epoch 16, CIFAR-10 Batch 1:  Minibatch Loss= 0.046853, Training Accuracy= 1.00000\n",
      "Validation Accuracy: 0.7008\n",
      "Epoch 16, CIFAR-10 Batch 2:  Minibatch Loss= 0.029082, Training Accuracy= 1.00000\n",
      "Validation Accuracy: 0.7084\n",
      "Epoch 16, CIFAR-10 Batch 3:  Minibatch Loss= 0.032918, Training Accuracy= 1.00000\n",
      "Validation Accuracy: 0.7152\n",
      "Epoch 16, CIFAR-10 Batch 4:  Minibatch Loss= 0.047578, Training Accuracy= 1.00000\n",
      "Validation Accuracy: 0.7026\n",
      "Epoch 16, CIFAR-10 Batch 5:  Minibatch Loss= 0.024468, Training Accuracy= 1.00000\n",
      "Validation Accuracy: 0.6946\n",
      "Epoch 17, CIFAR-10 Batch 1:  Minibatch Loss= 0.029728, Training Accuracy= 1.00000\n",
      "Validation Accuracy: 0.6952\n",
      "Epoch 17, CIFAR-10 Batch 2:  Minibatch Loss= 0.020917, Training Accuracy= 1.00000\n",
      "Validation Accuracy: 0.692\n",
      "Epoch 17, CIFAR-10 Batch 3:  Minibatch Loss= 0.029106, Training Accuracy= 1.00000\n",
      "Validation Accuracy: 0.7088\n",
      "Epoch 17, CIFAR-10 Batch 4:  Minibatch Loss= 0.026654, Training Accuracy= 1.00000\n",
      "Validation Accuracy: 0.7184\n",
      "Epoch 17, CIFAR-10 Batch 5:  Minibatch Loss= 0.039014, Training Accuracy= 1.00000\n",
      "Validation Accuracy: 0.7006\n",
      "Epoch 18, CIFAR-10 Batch 1:  Minibatch Loss= 0.021847, Training Accuracy= 1.00000\n",
      "Validation Accuracy: 0.6854\n",
      "Epoch 18, CIFAR-10 Batch 2:  Minibatch Loss= 0.020725, Training Accuracy= 1.00000\n",
      "Validation Accuracy: 0.6954\n",
      "Epoch 18, CIFAR-10 Batch 3:  Minibatch Loss= 0.040742, Training Accuracy= 1.00000\n",
      "Validation Accuracy: 0.6884\n",
      "Epoch 18, CIFAR-10 Batch 4:  Minibatch Loss= 0.029442, Training Accuracy= 1.00000\n",
      "Validation Accuracy: 0.7082\n",
      "Epoch 18, CIFAR-10 Batch 5:  Minibatch Loss= 0.020372, Training Accuracy= 1.00000\n",
      "Validation Accuracy: 0.699\n",
      "Epoch 19, CIFAR-10 Batch 1:  Minibatch Loss= 0.029827, Training Accuracy= 1.00000\n",
      "Validation Accuracy: 0.6834\n",
      "Epoch 19, CIFAR-10 Batch 2:  Minibatch Loss= 0.019875, Training Accuracy= 1.00000\n",
      "Validation Accuracy: 0.7026\n",
      "Epoch 19, CIFAR-10 Batch 3:  Minibatch Loss= 0.023989, Training Accuracy= 1.00000\n",
      "Validation Accuracy: 0.7166\n",
      "Epoch 19, CIFAR-10 Batch 4:  Minibatch Loss= 0.022829, Training Accuracy= 1.00000\n",
      "Validation Accuracy: 0.7048\n",
      "Epoch 19, CIFAR-10 Batch 5:  Minibatch Loss= 0.018631, Training Accuracy= 1.00000\n",
      "Validation Accuracy: 0.7094\n",
      "Epoch 20, CIFAR-10 Batch 1:  Minibatch Loss= 0.024225, Training Accuracy= 1.00000\n",
      "Validation Accuracy: 0.7004\n",
      "Epoch 20, CIFAR-10 Batch 2:  Minibatch Loss= 0.025474, Training Accuracy= 1.00000\n",
      "Validation Accuracy: 0.713\n",
      "Epoch 20, CIFAR-10 Batch 3:  Minibatch Loss= 0.014989, Training Accuracy= 1.00000\n",
      "Validation Accuracy: 0.7088\n",
      "Epoch 20, CIFAR-10 Batch 4:  Minibatch Loss= 0.012827, Training Accuracy= 1.00000\n",
      "Validation Accuracy: 0.724\n",
      "Epoch 20, CIFAR-10 Batch 5:  Minibatch Loss= 0.019103, Training Accuracy= 1.00000\n",
      "Validation Accuracy: 0.7126\n",
      "Epoch 21, CIFAR-10 Batch 1:  Minibatch Loss= 0.021556, Training Accuracy= 1.00000\n",
      "Validation Accuracy: 0.687\n",
      "Epoch 21, CIFAR-10 Batch 2:  Minibatch Loss= 0.013341, Training Accuracy= 1.00000\n",
      "Validation Accuracy: 0.7\n",
      "Epoch 21, CIFAR-10 Batch 3:  Minibatch Loss= 0.009622, Training Accuracy= 1.00000\n",
      "Validation Accuracy: 0.7196\n",
      "Epoch 21, CIFAR-10 Batch 4:  Minibatch Loss= 0.018669, Training Accuracy= 1.00000\n",
      "Validation Accuracy: 0.7074\n",
      "Epoch 21, CIFAR-10 Batch 5:  Minibatch Loss= 0.008676, Training Accuracy= 1.00000\n",
      "Validation Accuracy: 0.7018\n",
      "Epoch 22, CIFAR-10 Batch 1:  Minibatch Loss= 0.015993, Training Accuracy= 1.00000\n",
      "Validation Accuracy: 0.6712\n",
      "Epoch 22, CIFAR-10 Batch 2:  Minibatch Loss= 0.013902, Training Accuracy= 1.00000\n",
      "Validation Accuracy: 0.6948\n",
      "Epoch 22, CIFAR-10 Batch 3:  Minibatch Loss= 0.015991, Training Accuracy= 1.00000\n",
      "Validation Accuracy: 0.7186\n",
      "Epoch 22, CIFAR-10 Batch 4:  Minibatch Loss= 0.015673, Training Accuracy= 1.00000\n",
      "Validation Accuracy: 0.6998\n",
      "Epoch 22, CIFAR-10 Batch 5:  Minibatch Loss= 0.012522, Training Accuracy= 1.00000\n",
      "Validation Accuracy: 0.6846\n",
      "Epoch 23, CIFAR-10 Batch 1:  Minibatch Loss= 0.005046, Training Accuracy= 1.00000\n",
      "Validation Accuracy: 0.6884\n",
      "Epoch 23, CIFAR-10 Batch 2:  Minibatch Loss= 0.007309, Training Accuracy= 1.00000\n",
      "Validation Accuracy: 0.6936\n",
      "Epoch 23, CIFAR-10 Batch 3:  Minibatch Loss= 0.011653, Training Accuracy= 1.00000\n",
      "Validation Accuracy: 0.7104\n",
      "Epoch 23, CIFAR-10 Batch 4:  Minibatch Loss= 0.011470, Training Accuracy= 1.00000\n",
      "Validation Accuracy: 0.6984\n",
      "Epoch 23, CIFAR-10 Batch 5:  Minibatch Loss= 0.011186, Training Accuracy= 1.00000\n",
      "Validation Accuracy: 0.6976\n",
      "Epoch 24, CIFAR-10 Batch 1:  Minibatch Loss= 0.009766, Training Accuracy= 1.00000\n",
      "Validation Accuracy: 0.694\n",
      "Epoch 24, CIFAR-10 Batch 2:  Minibatch Loss= 0.010033, Training Accuracy= 1.00000\n",
      "Validation Accuracy: 0.711\n",
      "Epoch 24, CIFAR-10 Batch 3:  Minibatch Loss= 0.013959, Training Accuracy= 1.00000\n",
      "Validation Accuracy: 0.7138\n",
      "Epoch 24, CIFAR-10 Batch 4:  Minibatch Loss= 0.012344, Training Accuracy= 1.00000\n",
      "Validation Accuracy: 0.7066\n",
      "Epoch 24, CIFAR-10 Batch 5:  Minibatch Loss= 0.004659, Training Accuracy= 1.00000\n",
      "Validation Accuracy: 0.7008\n",
      "Epoch 25, CIFAR-10 Batch 1:  Minibatch Loss= 0.006486, Training Accuracy= 1.00000\n",
      "Validation Accuracy: 0.705\n",
      "Epoch 25, CIFAR-10 Batch 2:  Minibatch Loss= 0.015199, Training Accuracy= 1.00000\n",
      "Validation Accuracy: 0.7134\n",
      "Epoch 25, CIFAR-10 Batch 3:  Minibatch Loss= 0.005996, Training Accuracy= 1.00000\n",
      "Validation Accuracy: 0.7076\n",
      "Epoch 25, CIFAR-10 Batch 4:  Minibatch Loss= 0.005226, Training Accuracy= 1.00000\n",
      "Validation Accuracy: 0.7068\n",
      "Epoch 25, CIFAR-10 Batch 5:  Minibatch Loss= 0.003977, Training Accuracy= 1.00000\n",
      "Validation Accuracy: 0.7042\n"
     ]
    }
   ],
   "source": [
    "\"\"\"\n",
    "DON'T MODIFY ANYTHING IN THIS CELL\n",
    "\"\"\"\n",
    "save_model_path = './image_classification'\n",
    "\n",
    "print('Training...')\n",
    "with tf.Session() as sess:\n",
    "    # Initializing the variables\n",
    "    sess.run(tf.global_variables_initializer())\n",
    "    \n",
    "    # Training cycle\n",
    "    for epoch in range(epochs):\n",
    "        # Loop over all batches\n",
    "        n_batches = 5\n",
    "        for batch_i in range(1, n_batches + 1):\n",
    "            for batch_features, batch_labels in helper.load_preprocess_training_batch(batch_i, batch_size):\n",
    "                train_neural_network(sess, optimizer, keep_probability, batch_features, batch_labels)\n",
    "            print('Epoch {:>2}, CIFAR-10 Batch {}:  '.format(epoch + 1, batch_i), end='')\n",
    "            print_stats(sess, batch_features, batch_labels, cost, accuracy)\n",
    "            \n",
    "    # Save Model\n",
    "    saver = tf.train.Saver()\n",
    "    save_path = saver.save(sess, save_model_path)"
   ]
  },
  {
   "cell_type": "markdown",
   "metadata": {
    "deletable": true,
    "editable": true
   },
   "source": [
    "# Checkpoint\n",
    "The model has been saved to disk.\n",
    "## Test Model\n",
    "Test your model against the test dataset.  This will be your final accuracy. You should have an accuracy greater than 50%. If you don't, keep tweaking the model architecture and parameters."
   ]
  },
  {
   "cell_type": "code",
   "execution_count": 20,
   "metadata": {
    "collapsed": false,
    "deletable": true,
    "editable": true
   },
   "outputs": [
    {
     "name": "stdout",
     "output_type": "stream",
     "text": [
      "Testing Accuracy: 0.6978515625\n",
      "\n"
     ]
    },
    {
     "data": {
      "image/png": "[encoded data removed]",
      "text/plain": [
       "<matplotlib.figure.Figure at 0x23d22204898>"
      ]
     },
     "metadata": {
      "image/png": {
       "height": 319,
       "width": 349
      }
     },
     "output_type": "display_data"
    }
   ],
   "source": [
    "\"\"\"\n",
    "DON'T MODIFY ANYTHING IN THIS CELL\n",
    "\"\"\"\n",
    "%matplotlib inline\n",
    "%config InlineBackend.figure_format = 'retina'\n",
    "\n",
    "import tensorflow as tf\n",
    "import pickle\n",
    "import helper\n",
    "import random\n",
    "\n",
    "# Set batch size if not already set\n",
    "try:\n",
    "    if batch_size:\n",
    "        pass\n",
    "except NameError:\n",
    "    batch_size = 64\n",
    "\n",
    "save_model_path = './image_classification'\n",
    "n_samples = 4\n",
    "top_n_predictions = 3\n",
    "\n",
    "def test_model():\n",
    "    \"\"\"\n",
    "    Test the saved model against the test dataset\n",
    "    \"\"\"\n",
    "\n",
    "    test_features, test_labels = pickle.load(open('preprocess_training.p', mode='rb'))\n",
    "    loaded_graph = tf.Graph()\n",
    "\n",
    "    with tf.Session(graph=loaded_graph) as sess:\n",
    "        # Load model\n",
    "        loader = tf.train.import_meta_graph(save_model_path + '.meta')\n",
    "        loader.restore(sess, save_model_path)\n",
    "\n",
    "        # Get Tensors from loaded model\n",
    "        loaded_x = loaded_graph.get_tensor_by_name('x:0')\n",
    "        loaded_y = loaded_graph.get_tensor_by_name('y:0')\n",
    "        loaded_keep_prob = loaded_graph.get_tensor_by_name('keep_prob:0')\n",
    "        loaded_logits = loaded_graph.get_tensor_by_name('logits:0')\n",
    "        loaded_acc = loaded_graph.get_tensor_by_name('accuracy:0')\n",
    "        \n",
    "        # Get accuracy in batches for memory limitations\n",
    "        test_batch_acc_total = 0\n",
    "        test_batch_count = 0\n",
    "        \n",
    "        for train_feature_batch, train_label_batch in helper.batch_features_labels(test_features, test_labels, batch_size):\n",
    "            test_batch_acc_total += sess.run(\n",
    "                loaded_acc,\n",
    "                feed_dict={loaded_x: train_feature_batch, loaded_y: train_label_batch, loaded_keep_prob: 1.0})\n",
    "            test_batch_count += 1\n",
    "\n",
    "        print('Testing Accuracy: {}\\n'.format(test_batch_acc_total/test_batch_count))\n",
    "\n",
    "        # Print Random Samples\n",
    "        random_test_features, random_test_labels = tuple(zip(*random.sample(list(zip(test_features, test_labels)), n_samples)))\n",
    "        random_test_predictions = sess.run(\n",
    "            tf.nn.top_k(tf.nn.softmax(loaded_logits), top_n_predictions),\n",
    "            feed_dict={loaded_x: random_test_features, loaded_y: random_test_labels, loaded_keep_prob: 1.0})\n",
    "        helper.display_image_predictions(random_test_features, random_test_labels, random_test_predictions)\n",
    "\n",
    "\n",
    "test_model()"
   ]
  },
  {
   "cell_type": "markdown",
   "metadata": {
    "deletable": true,
    "editable": true
   },
   "source": [
    "## Why 50-80% Accuracy?\n",
    "You might be wondering why you can't get an accuracy any higher. First things first, 50% isn't bad for a simple CNN.  Pure guessing would get you 10% accuracy. That's because there are many more techniques that can be applied to your model and we recemmond that once you are done with this project, you explore!\n",
    "\n",
    "## Submitting This Project\n",
    "When submitting this project, make sure to run all the cells before saving the notebook.  Save the notebook file as \"image_classification.ipynb\" and save it as a HTML file under \"File\" -> \"Download as\".  Include the \"helper.py\" and \"problem_unittests.py\" files in your submission."
   ]
  }
 ],
 "metadata": {
  "kernelspec": {
   "display_name": "Python 3",
   "language": "python",
   "name": "python3"
  },
  "language_info": {
   "codemirror_mode": {
    "name": "ipython",
    "version": 3
   },
   "file_extension": ".py",
   "mimetype": "text/x-python",
   "name": "python",
   "nbconvert_exporter": "python",
   "pygments_lexer": "ipython3",
   "version": "3.5.3"
  }
 },
 "nbformat": 4,
 "nbformat_minor": 0
}
